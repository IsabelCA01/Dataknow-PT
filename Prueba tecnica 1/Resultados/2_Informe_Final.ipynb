{
 "cells": [
  {
   "cell_type": "markdown",
   "id": "fdbad8ac",
   "metadata": {},
   "source": [
    "# Informe Final de la Prueba Técnica 1\n",
    "\n",
    "**Autor:** Isabel Castrillón Acosta\n",
    "\n",
    "**Fecha:** 25-06-2025\n",
    "\n",
    "**Descripción del Proyecto:**\n"
   ]
  },
  {
   "cell_type": "markdown",
   "id": "470fe338",
   "metadata": {},
   "source": [
    "# 1. Explicación del Caso"
   ]
  },
  {
   "cell_type": "markdown",
   "id": "30d6d22d",
   "metadata": {},
   "source": [
    "# 2. Supuestos"
   ]
  },
  {
   "cell_type": "markdown",
   "id": "9ace561e",
   "metadata": {},
   "source": [
    "# 3. Formas de resolver el caso y la opcion elegida"
   ]
  },
  {
   "cell_type": "markdown",
   "id": "e9232b50",
   "metadata": {},
   "source": [
    "# 4. Resultados del análisis de los datos y los modelos"
   ]
  },
  {
   "cell_type": "markdown",
   "id": "88c91882",
   "metadata": {},
   "source": [
    "## 4.1 Librerias"
   ]
  },
  {
   "cell_type": "code",
   "execution_count": 1,
   "id": "31f9f851",
   "metadata": {},
   "outputs": [
    {
     "ename": "SyntaxError",
     "evalue": "invalid syntax (4037808582.py, line 3)",
     "output_type": "error",
     "traceback": [
      "  \u001b[36mCell\u001b[39m\u001b[36m \u001b[39m\u001b[32mIn[1]\u001b[39m\u001b[32m, line 3\u001b[39m\n\u001b[31m    \u001b[39m\u001b[31mimport scikit-learn as skl\u001b[39m\n                 ^\n\u001b[31mSyntaxError\u001b[39m\u001b[31m:\u001b[39m invalid syntax\n"
     ]
    }
   ],
   "source": [
    "import pandas as pd\n",
    "import seaborn as sns\n",
    "import scikit-learn as skl\n",
    "import matplotlib.pyplot as plt\n"
   ]
  },
  {
   "cell_type": "markdown",
   "id": "5e219b1e",
   "metadata": {},
   "source": [
    "# 5. Futuras mejoras"
   ]
  },
  {
   "cell_type": "markdown",
   "id": "c604e335",
   "metadata": {},
   "source": [
    "# 6. Apreciaciones y comentarios del caso (opcional)"
   ]
  }
 ],
 "metadata": {
  "kernelspec": {
   "display_name": "dataknow",
   "language": "python",
   "name": "python3"
  },
  "language_info": {
   "codemirror_mode": {
    "name": "ipython",
    "version": 3
   },
   "file_extension": ".py",
   "mimetype": "text/x-python",
   "name": "python",
   "nbconvert_exporter": "python",
   "pygments_lexer": "ipython3",
   "version": "3.12.11"
  }
 },
 "nbformat": 4,
 "nbformat_minor": 5
}
