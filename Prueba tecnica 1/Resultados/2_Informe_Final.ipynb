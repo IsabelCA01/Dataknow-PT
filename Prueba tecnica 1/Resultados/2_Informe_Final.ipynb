{
 "cells": [
  {
   "cell_type": "markdown",
   "id": "fdbad8ac",
   "metadata": {},
   "source": [
    "# Informe Final de la Prueba Técnica 1\n",
    "\n",
    "**Autor:** Isabel Castrillón Acosta\n",
    "\n",
    "**Fecha:** 25-06-2025\n",
    "\n",
    "**Descripción del Proyecto:**\n"
   ]
  },
  {
   "cell_type": "markdown",
   "id": "470fe338",
   "metadata": {},
   "source": [
    "# 1. Explicación del Caso"
   ]
  },
  {
   "cell_type": "markdown",
   "id": "80da5888",
   "metadata": {},
   "source": [
    "- Empresa de construcción necesita estimar el costo de un proyecto de 36 meses de duración (tres años).\n",
    "\n",
    "- Se debe estimar el costo de los equipos, con base en el cosato de las materias primas que lo componen (X, Y, Z). \n",
    "\n",
    "**Detalles de Equipos**\n",
    "\n",
    "- Equipo 1: $0.2 * PrecioX + 0.8 * PrecioY $\n",
    "\n",
    "- Equipo 2: $\\frac{(PrecioX + PrecioY + PrecioZ)}{3} $\n",
    "\n",
    "**Datos**\n",
    "\n",
    "- Todos los dataframes tienen rangos de tiempos diferentes en la columna \"Fecha\" y una columna de \"Precio\".\n",
    "- Se cuentan con tres dataframes:\n",
    "  - X: contiene el costo de las materias primas X.\n",
    "  - Y: contiene el costo de las materias primas Y.\n",
    "  - Z: contiene el costo de las materias primas Z.\n",
    "\n",
    "\n",
    "**Beneficios esperados**\n",
    "- Presición en la estimación de costos, lo que permitirá una mejor planificación financiera del proceso.\n",
    "- Optimización de recursos al seleccionar proveedores con la mejor relación costo-beneficio. \n",
    "\n",
    "\n",
    "\n",
    "\n"
   ]
  },
  {
   "cell_type": "markdown",
   "id": "30d6d22d",
   "metadata": {},
   "source": [
    "# 2. Supuestos"
   ]
  },
  {
   "cell_type": "markdown",
   "id": "9ace561e",
   "metadata": {},
   "source": [
    "# 3. Formas de resolver el caso y la opcion elegida"
   ]
  },
  {
   "cell_type": "markdown",
   "id": "e9a6c0c3",
   "metadata": {},
   "source": [
    "- Ya que cada dataframe tiene una cantidad de filas diferente y un rango de tiempo distinto, se puede hacer una regresion lineal para cada materia prima y luego hacer predicciones a futuro para las mismas fechas de las tres materias primas.\n",
    "- Una vez obtenidas las predicciones, se pueden aplicar las formulas de los equipos, para calcular los costos a futuro de ambos equipos. "
   ]
  },
  {
   "cell_type": "markdown",
   "id": "e9232b50",
   "metadata": {},
   "source": [
    "# 4. Resultados del análisis de los datos y los modelos"
   ]
  },
  {
   "cell_type": "markdown",
   "id": "88c91882",
   "metadata": {},
   "source": [
    "## 4.1 Librerias"
   ]
  },
  {
   "cell_type": "code",
   "execution_count": 1,
   "id": "31f9f851",
   "metadata": {},
   "outputs": [],
   "source": [
    "import pandas as pd\n",
    "import seaborn as sns\n",
    "from sklearn.linear_model import LinearRegression\n",
    "import matplotlib.pyplot as plt\n",
    "import numpy as np\n"
   ]
  },
  {
   "cell_type": "markdown",
   "id": "03ef683e",
   "metadata": {},
   "source": [
    "## 4.2 Cargar los dataframes\n",
    "\n"
   ]
  },
  {
   "cell_type": "code",
   "execution_count": 2,
   "id": "be1466ed",
   "metadata": {},
   "outputs": [],
   "source": [
    "x = pd.read_csv('../Datos/X_cleaned.csv')\n",
    "y = pd.read_csv('../Datos/Y_cleaned.csv')\n",
    "z = pd.read_csv('../Datos/Z_cleaned.csv')"
   ]
  },
  {
   "cell_type": "code",
   "execution_count": 3,
   "id": "ca3b9e8f",
   "metadata": {},
   "outputs": [
    {
     "data": {
      "text/plain": [
       "(         Date  Price\n",
       " 0  2024-04-04  89.18\n",
       " 1  2024-04-03  89.35\n",
       " 2  2024-04-02  88.92\n",
       " 3  2024-04-01  87.42\n",
       " 4  2024-03-28  87.48,\n",
       "          Date   Price\n",
       " 0  2023-09-12  547.33\n",
       " 1  2023-09-11  546.00\n",
       " 2  2023-09-08  545.00\n",
       " 3  2023-09-07  550.00\n",
       " 4  2023-09-06  552.50,\n",
       "          Date    Price\n",
       " 0  2010-01-01  2225.25\n",
       " 1  2010-01-04  2225.25\n",
       " 2  2010-01-05  2246.50\n",
       " 3  2010-01-06  2302.50\n",
       " 4  2010-01-07  2306.50)"
      ]
     },
     "execution_count": 3,
     "metadata": {},
     "output_type": "execute_result"
    }
   ],
   "source": [
    "x.head(), y.head(), z.head()"
   ]
  },
  {
   "cell_type": "code",
   "execution_count": null,
   "id": "f4b5df4f",
   "metadata": {},
   "outputs": [],
   "source": [
    "from sklearn.linear_model import LinearRegression\n",
    "import pandas as pd\n",
    "import numpy as np\n",
    "\n",
    "# Ejemplo con materia prima X\n",
    "df_x['timestamp'] = pd.to_datetime(df_x['fecha']).map(pd.Timestamp.toordinal)\n",
    "X = df_x[['timestamp']]\n",
    "y = df_x['precio']\n",
    "\n",
    "model_x = LinearRegression().fit(X, y)\n",
    "\n",
    "# Predicción a una fecha futura\n",
    "futuro = pd.to_datetime('2026-01-01').toordinal()\n",
    "precio_x_futuro = model_x.predict([[futuro]])[0]"
   ]
  },
  {
   "cell_type": "markdown",
   "id": "5e219b1e",
   "metadata": {},
   "source": [
    "# 5. Futuras mejoras"
   ]
  },
  {
   "cell_type": "markdown",
   "id": "c604e335",
   "metadata": {},
   "source": [
    "# 6. Apreciaciones y comentarios del caso (opcional)"
   ]
  }
 ],
 "metadata": {
  "kernelspec": {
   "display_name": "dataknow",
   "language": "python",
   "name": "python3"
  },
  "language_info": {
   "codemirror_mode": {
    "name": "ipython",
    "version": 3
   },
   "file_extension": ".py",
   "mimetype": "text/x-python",
   "name": "python",
   "nbconvert_exporter": "python",
   "pygments_lexer": "ipython3",
   "version": "3.12.11"
  }
 },
 "nbformat": 4,
 "nbformat_minor": 5
}
