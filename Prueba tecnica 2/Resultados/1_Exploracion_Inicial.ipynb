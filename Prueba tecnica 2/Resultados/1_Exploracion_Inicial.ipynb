{
 "cells": [
  {
   "cell_type": "markdown",
   "id": "5aa5f67f",
   "metadata": {},
   "source": [
    "# Exploración de los Datos\n",
    "\n",
    "**Autor:** Isabel Castrillón Acosta\n",
    "\n",
    "**Fecha:** 26-06-2025\n",
    "\n",
    "**Descripción:** Este notebook realiza una exploración inicial de los datos de la prueba técnica 2. Incluye posibles limpez, análisis de datos faltantes y visualizaciones básicas."
   ]
  },
  {
   "cell_type": "markdown",
   "id": "3f1d1d90",
   "metadata": {},
   "source": [
    "# 1. Librerias"
   ]
  },
  {
   "cell_type": "code",
   "execution_count": 1,
   "id": "49f3692b",
   "metadata": {},
   "outputs": [],
   "source": [
    "import pandas as pd\n"
   ]
  },
  {
   "cell_type": "markdown",
   "id": "ce68ccad",
   "metadata": {},
   "source": [
    "# 2. Cargar los datos\n"
   ]
  },
  {
   "cell_type": "code",
   "execution_count": 2,
   "id": "932da2dc",
   "metadata": {},
   "outputs": [
    {
     "data": {
      "text/html": [
       "<div>\n",
       "<style scoped>\n",
       "    .dataframe tbody tr th:only-of-type {\n",
       "        vertical-align: middle;\n",
       "    }\n",
       "\n",
       "    .dataframe tbody tr th {\n",
       "        vertical-align: top;\n",
       "    }\n",
       "\n",
       "    .dataframe thead th {\n",
       "        text-align: right;\n",
       "    }\n",
       "</style>\n",
       "<table border=\"1\" class=\"dataframe\">\n",
       "  <thead>\n",
       "    <tr style=\"text-align: right;\">\n",
       "      <th></th>\n",
       "      <th>#</th>\n",
       "      <th>Relevancia</th>\n",
       "      <th>Providencia</th>\n",
       "      <th>Tipo</th>\n",
       "      <th>Fecha Sentencia</th>\n",
       "      <th>Tema - subtema</th>\n",
       "      <th>resuelve</th>\n",
       "      <th>sintesis</th>\n",
       "    </tr>\n",
       "  </thead>\n",
       "  <tbody>\n",
       "    <tr>\n",
       "      <th>0</th>\n",
       "      <td>1</td>\n",
       "      <td>966965.0</td>\n",
       "      <td>T-185/22</td>\n",
       "      <td>NaN</td>\n",
       "      <td>2022-05-31</td>\n",
       "      <td>NaN</td>\n",
       "      <td>en nombre del pueblo y por mandato de la Const...</td>\n",
       "      <td>En este caso se formula la acción de tutela en...</td>\n",
       "    </tr>\n",
       "    <tr>\n",
       "      <th>1</th>\n",
       "      <td>3</td>\n",
       "      <td>963168.0</td>\n",
       "      <td>T-356/21</td>\n",
       "      <td>NaN</td>\n",
       "      <td>2021-10-15</td>\n",
       "      <td>ACCIÓN DE TUTELA PARA PROTEGER EL DERECHO A LA...</td>\n",
       "      <td>en nombre del pueblo y por mandato de la Const...</td>\n",
       "      <td>El peticionario considera que los accionantes ...</td>\n",
       "    </tr>\n",
       "    <tr>\n",
       "      <th>2</th>\n",
       "      <td>5</td>\n",
       "      <td>956201.0</td>\n",
       "      <td>T-351/22</td>\n",
       "      <td>NaN</td>\n",
       "      <td>2022-10-07</td>\n",
       "      <td>ACCIÓN DE TUTELA PARA PROTEGER EL DERECHO A LA...</td>\n",
       "      <td>administrando justicia en nombre del Pueblo, y...</td>\n",
       "      <td>El periodista accionante acusa al abogado acci...</td>\n",
       "    </tr>\n",
       "    <tr>\n",
       "      <th>3</th>\n",
       "      <td>6</td>\n",
       "      <td>955889.0</td>\n",
       "      <td>T-246/21</td>\n",
       "      <td>NaN</td>\n",
       "      <td>2021-07-29</td>\n",
       "      <td>ACCION DE TUTELA PARA PROTEGER EL DERECHO A LA...</td>\n",
       "      <td>en nombre del pueblo y por mandato de la Const...</td>\n",
       "      <td>Se presenta la acción de tutela en contra de u...</td>\n",
       "    </tr>\n",
       "    <tr>\n",
       "      <th>4</th>\n",
       "      <td>7</td>\n",
       "      <td>955787.0</td>\n",
       "      <td>T-245A/22</td>\n",
       "      <td>NaN</td>\n",
       "      <td>2022-07-01</td>\n",
       "      <td>ACCION DE TUTELA-Inexistencia de hecho superad...</td>\n",
       "      <td>en nombre del pueblo y por mandato de la Const...</td>\n",
       "      <td>El accionante, actuando en representación de s...</td>\n",
       "    </tr>\n",
       "    <tr>\n",
       "      <th>...</th>\n",
       "      <td>...</td>\n",
       "      <td>...</td>\n",
       "      <td>...</td>\n",
       "      <td>...</td>\n",
       "      <td>...</td>\n",
       "      <td>...</td>\n",
       "      <td>...</td>\n",
       "      <td>...</td>\n",
       "    </tr>\n",
       "    <tr>\n",
       "      <th>324</th>\n",
       "      <td>487</td>\n",
       "      <td>106681.0</td>\n",
       "      <td>SU.016/21</td>\n",
       "      <td>NaN</td>\n",
       "      <td>2021-01-21</td>\n",
       "      <td>ABUSO DEL DERECHO-Elementos que lo configuran ...</td>\n",
       "      <td>en nombre del pueblo y por mandato de la Const...</td>\n",
       "      <td>En este caso, el accionante y 56 personas más,...</td>\n",
       "    </tr>\n",
       "    <tr>\n",
       "      <th>325</th>\n",
       "      <td>489</td>\n",
       "      <td>100241.0</td>\n",
       "      <td>SU.257/21</td>\n",
       "      <td>NaN</td>\n",
       "      <td>2021-08-05</td>\n",
       "      <td>ACCION DE TUTELA CONTRA PROVIDENCIAS JUDICIALE...</td>\n",
       "      <td>en nombre del pueblo y por mandato de la Const...</td>\n",
       "      <td>La acción de tutela se interpuso en contra de ...</td>\n",
       "    </tr>\n",
       "    <tr>\n",
       "      <th>326</th>\n",
       "      <td>491</td>\n",
       "      <td>99781.0</td>\n",
       "      <td>C-489/23</td>\n",
       "      <td>NaN</td>\n",
       "      <td>2023-11-16</td>\n",
       "      <td>NaN</td>\n",
       "      <td>RESUELVE ÚNICO. Declarar INEXEQUIBLE el parágr...</td>\n",
       "      <td>Demanda de inconstitucionalidad contra el artí...</td>\n",
       "    </tr>\n",
       "    <tr>\n",
       "      <th>327</th>\n",
       "      <td>493</td>\n",
       "      <td>84998.0</td>\n",
       "      <td>C-293/20</td>\n",
       "      <td>NaN</td>\n",
       "      <td>2020-08-05</td>\n",
       "      <td>NaN</td>\n",
       "      <td>administrando justicia en nombre del Pueblo, y...</td>\n",
       "      <td>Revisión de constitucionalidad del Decreto Leg...</td>\n",
       "    </tr>\n",
       "    <tr>\n",
       "      <th>328</th>\n",
       "      <td>495</td>\n",
       "      <td>81298.0</td>\n",
       "      <td>C-294/21</td>\n",
       "      <td>NaN</td>\n",
       "      <td>2021-09-02</td>\n",
       "      <td>NIÑOS, NIÑAS Y ADOLESCENTES COMO SUJETOS DE ES...</td>\n",
       "      <td>RESUELVE: PRIMERO.- Declarar la INEXEQUIBILIDA...</td>\n",
       "      <td>Demandas de inconstitucionalidad contra el Act...</td>\n",
       "    </tr>\n",
       "  </tbody>\n",
       "</table>\n",
       "<p>329 rows × 8 columns</p>\n",
       "</div>"
      ],
      "text/plain": [
       "       #  Relevancia Providencia  Tipo Fecha Sentencia  \\\n",
       "0      1    966965.0    T-185/22   NaN      2022-05-31   \n",
       "1      3    963168.0    T-356/21   NaN      2021-10-15   \n",
       "2      5    956201.0    T-351/22   NaN      2022-10-07   \n",
       "3      6    955889.0    T-246/21   NaN      2021-07-29   \n",
       "4      7    955787.0   T-245A/22   NaN      2022-07-01   \n",
       "..   ...         ...         ...   ...             ...   \n",
       "324  487    106681.0   SU.016/21   NaN      2021-01-21   \n",
       "325  489    100241.0   SU.257/21   NaN      2021-08-05   \n",
       "326  491     99781.0    C-489/23   NaN      2023-11-16   \n",
       "327  493     84998.0    C-293/20   NaN      2020-08-05   \n",
       "328  495     81298.0    C-294/21   NaN      2021-09-02   \n",
       "\n",
       "                                        Tema - subtema  \\\n",
       "0                                                  NaN   \n",
       "1    ACCIÓN DE TUTELA PARA PROTEGER EL DERECHO A LA...   \n",
       "2    ACCIÓN DE TUTELA PARA PROTEGER EL DERECHO A LA...   \n",
       "3    ACCION DE TUTELA PARA PROTEGER EL DERECHO A LA...   \n",
       "4    ACCION DE TUTELA-Inexistencia de hecho superad...   \n",
       "..                                                 ...   \n",
       "324  ABUSO DEL DERECHO-Elementos que lo configuran ...   \n",
       "325  ACCION DE TUTELA CONTRA PROVIDENCIAS JUDICIALE...   \n",
       "326                                                NaN   \n",
       "327                                                NaN   \n",
       "328  NIÑOS, NIÑAS Y ADOLESCENTES COMO SUJETOS DE ES...   \n",
       "\n",
       "                                              resuelve  \\\n",
       "0    en nombre del pueblo y por mandato de la Const...   \n",
       "1    en nombre del pueblo y por mandato de la Const...   \n",
       "2    administrando justicia en nombre del Pueblo, y...   \n",
       "3    en nombre del pueblo y por mandato de la Const...   \n",
       "4    en nombre del pueblo y por mandato de la Const...   \n",
       "..                                                 ...   \n",
       "324  en nombre del pueblo y por mandato de la Const...   \n",
       "325  en nombre del pueblo y por mandato de la Const...   \n",
       "326  RESUELVE ÚNICO. Declarar INEXEQUIBLE el parágr...   \n",
       "327  administrando justicia en nombre del Pueblo, y...   \n",
       "328  RESUELVE: PRIMERO.- Declarar la INEXEQUIBILIDA...   \n",
       "\n",
       "                                              sintesis  \n",
       "0    En este caso se formula la acción de tutela en...  \n",
       "1    El peticionario considera que los accionantes ...  \n",
       "2    El periodista accionante acusa al abogado acci...  \n",
       "3    Se presenta la acción de tutela en contra de u...  \n",
       "4    El accionante, actuando en representación de s...  \n",
       "..                                                 ...  \n",
       "324  En este caso, el accionante y 56 personas más,...  \n",
       "325  La acción de tutela se interpuso en contra de ...  \n",
       "326  Demanda de inconstitucionalidad contra el artí...  \n",
       "327  Revisión de constitucionalidad del Decreto Leg...  \n",
       "328  Demandas de inconstitucionalidad contra el Act...  \n",
       "\n",
       "[329 rows x 8 columns]"
      ]
     },
     "execution_count": 2,
     "metadata": {},
     "output_type": "execute_result"
    }
   ],
   "source": [
    "df = pd.read_excel('../Datos/sentencias_pasadas.xlsx')\n",
    "df"
   ]
  },
  {
   "cell_type": "markdown",
   "id": "e5a42f36",
   "metadata": {},
   "source": [
    "# 3. Exploración inicial"
   ]
  },
  {
   "cell_type": "code",
   "execution_count": 3,
   "id": "110a9b68",
   "metadata": {},
   "outputs": [
    {
     "data": {
      "text/plain": [
       "Index(['#', 'Relevancia', 'Providencia', 'Tipo', 'Fecha Sentencia',\n",
       "       'Tema - subtema', 'resuelve', 'sintesis'],\n",
       "      dtype='object')"
      ]
     },
     "execution_count": 3,
     "metadata": {},
     "output_type": "execute_result"
    }
   ],
   "source": [
    "df.columns"
   ]
  },
  {
   "cell_type": "code",
   "execution_count": 4,
   "id": "833bd91d",
   "metadata": {},
   "outputs": [
    {
     "data": {
      "text/plain": [
       "(329, 8)"
      ]
     },
     "execution_count": 4,
     "metadata": {},
     "output_type": "execute_result"
    }
   ],
   "source": [
    "df.shape"
   ]
  },
  {
   "cell_type": "code",
   "execution_count": 5,
   "id": "f8583b29",
   "metadata": {},
   "outputs": [
    {
     "data": {
      "text/plain": [
       "#                    0\n",
       "Relevancia           0\n",
       "Providencia          0\n",
       "Tipo               329\n",
       "Fecha Sentencia      0\n",
       "Tema - subtema      92\n",
       "resuelve             0\n",
       "sintesis             0\n",
       "dtype: int64"
      ]
     },
     "execution_count": 5,
     "metadata": {},
     "output_type": "execute_result"
    }
   ],
   "source": [
    "df.isna().sum()"
   ]
  },
  {
   "cell_type": "code",
   "execution_count": 6,
   "id": "8ae320f3",
   "metadata": {},
   "outputs": [
    {
     "name": "stdout",
     "output_type": "stream",
     "text": [
      "<class 'pandas.core.frame.DataFrame'>\n",
      "RangeIndex: 329 entries, 0 to 328\n",
      "Data columns (total 8 columns):\n",
      " #   Column           Non-Null Count  Dtype         \n",
      "---  ------           --------------  -----         \n",
      " 0   #                329 non-null    int64         \n",
      " 1   Relevancia       329 non-null    float64       \n",
      " 2   Providencia      329 non-null    object        \n",
      " 3   Tipo             0 non-null      float64       \n",
      " 4   Fecha Sentencia  329 non-null    datetime64[ns]\n",
      " 5   Tema - subtema   237 non-null    object        \n",
      " 6   resuelve         329 non-null    object        \n",
      " 7   sintesis         329 non-null    object        \n",
      "dtypes: datetime64[ns](1), float64(2), int64(1), object(4)\n",
      "memory usage: 20.7+ KB\n"
     ]
    }
   ],
   "source": [
    "df.info()"
   ]
  },
  {
   "cell_type": "code",
   "execution_count": 7,
   "id": "bcb5a719",
   "metadata": {},
   "outputs": [
    {
     "name": "stdout",
     "output_type": "stream",
     "text": [
      "Fecha min: 2019-02-01 00:00:00\n",
      "Fecha max: 2024-11-13 00:00:00\n"
     ]
    }
   ],
   "source": [
    "print(\"Fecha min:\",df['Fecha Sentencia'].min())\n",
    "print(\"Fecha max:\",df['Fecha Sentencia'].max())\n"
   ]
  },
  {
   "cell_type": "markdown",
   "id": "b3c891a3",
   "metadata": {},
   "source": [
    "# 4. Observaciones"
   ]
  },
  {
   "cell_type": "markdown",
   "id": "f6112fb9",
   "metadata": {},
   "source": [
    "- DF tiene 8 columnas y 329 filas.\n",
    "\n",
    "- Columna 'Tipo' esta completamente vacía, por lo que no aporta información y se puede eliminar.\n",
    "\n",
    "- la majoria de las columnas contienen objetos, lo que indica que pueden ser cadenas de texto. Pero también tienen integer, float y datetime.\n",
    "\n",
    "- Las sentencias se hicieron entre 01-02-2019 y 13-11-2024.\n",
    "\n"
   ]
  }
 ],
 "metadata": {
  "kernelspec": {
   "display_name": "env",
   "language": "python",
   "name": "python3"
  },
  "language_info": {
   "codemirror_mode": {
    "name": "ipython",
    "version": 3
   },
   "file_extension": ".py",
   "mimetype": "text/x-python",
   "name": "python",
   "nbconvert_exporter": "python",
   "pygments_lexer": "ipython3",
   "version": "3.12.11"
  }
 },
 "nbformat": 4,
 "nbformat_minor": 5
}
