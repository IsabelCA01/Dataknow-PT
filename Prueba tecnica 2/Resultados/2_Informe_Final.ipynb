{
 "cells": [
  {
   "cell_type": "markdown",
   "id": "fdbad8ac",
   "metadata": {},
   "source": [
    "# Informe Final de la Prueba Técnica 2\n",
    "\n",
    "**Autor:** Isabel Castrillón Acosta\n",
    "\n",
    "**Fecha:** 25-06-2025\n",
    "\n",
    "**Descripción:** Este notebook presenta un informe detallado de la prueba técnica 2, que incluye la implementación de un chatbot legal utilizando modelos de lenguaje de Open AI. \n",
    "\n"
   ]
  },
  {
   "cell_type": "markdown",
   "id": "470fe338",
   "metadata": {},
   "source": [
    "# 1. Explicación del Caso"
   ]
  },
  {
   "cell_type": "markdown",
   "id": "9d663501",
   "metadata": {},
   "source": [
    "En un consultorio legal, buscan una solución para utilizar la inteligencia artificial generativa (Generative AI), para permitir una asesoría automática a los clientes de la consultora legal. Y optimizar el tiempo de los abogados que asesoran a sus clientes frente a posibles demandas y los resultados de estas, al resolver dudas muy puntuales que no pueden ser resueltas solo con la historia de demandas y sentencias.\n",
    "\n",
    "Quieren concentrarse en demandas relacionadas a redes sociales. \n",
    "\n",
    "La solución debe ser capaz de responder preguntas específicas sobre casos legales: \n",
    "- ¿Cuáles son las sentencias de 3 demandas? (las 3 demandas pueden ser elegidas por ut) \n",
    "- ¿De qué se trataron las 3 demandas anteriores? \n",
    "- ¿Cuál fue la sentencia del caso que habla de acoso escolar?\n",
    "- ¿diga el detalle de la demanda relacionada con acoso escolar? \n",
    "- ¿existen casos que hablan sobre el PIAR, indique de que trataron los casos y \n",
    "cuáles fueron sus sentencias? \n",
    "\n"
   ]
  },
  {
   "cell_type": "markdown",
   "id": "30d6d22d",
   "metadata": {},
   "source": [
    "# 2. Supuestos"
   ]
  },
  {
   "cell_type": "markdown",
   "id": "4f60aa46",
   "metadata": {},
   "source": [
    "- Se asume que los datos de los casos legales poseen solo demandas de redes sociales y que tienen toda la información necesaria para responder las preguntas planteadas. Ya que no se especifica que se deba buscar información adicional en otras fuentes.\n",
    "Adicionalmente, al no tener conocimientos sobre las sentencias juridicas, se asume que las sentencias son correctas y que no se requiere una revisión de la terminología. "
   ]
  },
  {
   "cell_type": "markdown",
   "id": "9ace561e",
   "metadata": {},
   "source": [
    "# 3. Formas de resolver el caso y la opcion elegida"
   ]
  },
  {
   "cell_type": "markdown",
   "id": "db4c0c91",
   "metadata": {},
   "source": [
    "La mejor forma de darle acceso a personas que no tienen conocimientos técnicos a la información de los casos legales es a través de un chatbot, que utiliza un modelo de lenguaje para entender las preguntas y proporcionar respuestas relevantes basadas en los datos de los casos legales proporcionados."
   ]
  },
  {
   "cell_type": "markdown",
   "id": "30d3e60e",
   "metadata": {},
   "source": [
    "- Para la creación del chatbot, se consideraron varias opciones de modelos de lenguaje preentrenados. Algunos opensource como Llama-2 o Huggin-face, y otros como los modelos de OpenAI.\n",
    "- La opción elegida fue la implementación de un chatbot legal utilizando los modelos de OpenAI, ya que permite una interacción más natural y eficiente con los usuarios. Además, algunos de los otros modelos poseían incompatibilidades con el lenguaje en español, o con algunas librerías de Python que se utilizaron en el proyecto, lo que dificultaba su implementación."
   ]
  },
  {
   "cell_type": "markdown",
   "id": "e9232b50",
   "metadata": {},
   "source": [
    "# 4. Resultados del análisis de los datos y los modelos"
   ]
  },
  {
   "cell_type": "markdown",
   "id": "959ac95f",
   "metadata": {},
   "source": [
    "## 4.1 Librerias"
   ]
  },
  {
   "cell_type": "code",
   "execution_count": 1,
   "id": "4433aa31",
   "metadata": {},
   "outputs": [],
   "source": [
    "import pandas as pd\n",
    "import faiss\n",
    "import numpy as np\n",
    "import os\n",
    "from openai import OpenAI\n",
    "from sentence_transformers import SentenceTransformer\n",
    "from dotenv import load_dotenv\n"
   ]
  },
  {
   "cell_type": "markdown",
   "id": "c8a8daf2",
   "metadata": {},
   "source": [
    "## 4.2 Carga de datos\n"
   ]
  },
  {
   "cell_type": "code",
   "execution_count": 2,
   "id": "3d9d9bb7",
   "metadata": {},
   "outputs": [
    {
     "data": {
      "text/html": [
       "<div>\n",
       "<style scoped>\n",
       "    .dataframe tbody tr th:only-of-type {\n",
       "        vertical-align: middle;\n",
       "    }\n",
       "\n",
       "    .dataframe tbody tr th {\n",
       "        vertical-align: top;\n",
       "    }\n",
       "\n",
       "    .dataframe thead th {\n",
       "        text-align: right;\n",
       "    }\n",
       "</style>\n",
       "<table border=\"1\" class=\"dataframe\">\n",
       "  <thead>\n",
       "    <tr style=\"text-align: right;\">\n",
       "      <th></th>\n",
       "      <th>#</th>\n",
       "      <th>Relevancia</th>\n",
       "      <th>Providencia</th>\n",
       "      <th>Tipo</th>\n",
       "      <th>Fecha Sentencia</th>\n",
       "      <th>Tema - subtema</th>\n",
       "      <th>resuelve</th>\n",
       "      <th>sintesis</th>\n",
       "    </tr>\n",
       "  </thead>\n",
       "  <tbody>\n",
       "    <tr>\n",
       "      <th>0</th>\n",
       "      <td>1</td>\n",
       "      <td>966965.0</td>\n",
       "      <td>T-185/22</td>\n",
       "      <td>NaN</td>\n",
       "      <td>2022-05-31</td>\n",
       "      <td>NaN</td>\n",
       "      <td>en nombre del pueblo y por mandato de la Const...</td>\n",
       "      <td>En este caso se formula la acción de tutela en...</td>\n",
       "    </tr>\n",
       "    <tr>\n",
       "      <th>1</th>\n",
       "      <td>3</td>\n",
       "      <td>963168.0</td>\n",
       "      <td>T-356/21</td>\n",
       "      <td>NaN</td>\n",
       "      <td>2021-10-15</td>\n",
       "      <td>ACCIÓN DE TUTELA PARA PROTEGER EL DERECHO A LA...</td>\n",
       "      <td>en nombre del pueblo y por mandato de la Const...</td>\n",
       "      <td>El peticionario considera que los accionantes ...</td>\n",
       "    </tr>\n",
       "    <tr>\n",
       "      <th>2</th>\n",
       "      <td>5</td>\n",
       "      <td>956201.0</td>\n",
       "      <td>T-351/22</td>\n",
       "      <td>NaN</td>\n",
       "      <td>2022-10-07</td>\n",
       "      <td>ACCIÓN DE TUTELA PARA PROTEGER EL DERECHO A LA...</td>\n",
       "      <td>administrando justicia en nombre del Pueblo, y...</td>\n",
       "      <td>El periodista accionante acusa al abogado acci...</td>\n",
       "    </tr>\n",
       "    <tr>\n",
       "      <th>3</th>\n",
       "      <td>6</td>\n",
       "      <td>955889.0</td>\n",
       "      <td>T-246/21</td>\n",
       "      <td>NaN</td>\n",
       "      <td>2021-07-29</td>\n",
       "      <td>ACCION DE TUTELA PARA PROTEGER EL DERECHO A LA...</td>\n",
       "      <td>en nombre del pueblo y por mandato de la Const...</td>\n",
       "      <td>Se presenta la acción de tutela en contra de u...</td>\n",
       "    </tr>\n",
       "    <tr>\n",
       "      <th>4</th>\n",
       "      <td>7</td>\n",
       "      <td>955787.0</td>\n",
       "      <td>T-245A/22</td>\n",
       "      <td>NaN</td>\n",
       "      <td>2022-07-01</td>\n",
       "      <td>ACCION DE TUTELA-Inexistencia de hecho superad...</td>\n",
       "      <td>en nombre del pueblo y por mandato de la Const...</td>\n",
       "      <td>El accionante, actuando en representación de s...</td>\n",
       "    </tr>\n",
       "  </tbody>\n",
       "</table>\n",
       "</div>"
      ],
      "text/plain": [
       "   #  Relevancia Providencia  Tipo Fecha Sentencia  \\\n",
       "0  1    966965.0    T-185/22   NaN      2022-05-31   \n",
       "1  3    963168.0    T-356/21   NaN      2021-10-15   \n",
       "2  5    956201.0    T-351/22   NaN      2022-10-07   \n",
       "3  6    955889.0    T-246/21   NaN      2021-07-29   \n",
       "4  7    955787.0   T-245A/22   NaN      2022-07-01   \n",
       "\n",
       "                                      Tema - subtema  \\\n",
       "0                                                NaN   \n",
       "1  ACCIÓN DE TUTELA PARA PROTEGER EL DERECHO A LA...   \n",
       "2  ACCIÓN DE TUTELA PARA PROTEGER EL DERECHO A LA...   \n",
       "3  ACCION DE TUTELA PARA PROTEGER EL DERECHO A LA...   \n",
       "4  ACCION DE TUTELA-Inexistencia de hecho superad...   \n",
       "\n",
       "                                            resuelve  \\\n",
       "0  en nombre del pueblo y por mandato de la Const...   \n",
       "1  en nombre del pueblo y por mandato de la Const...   \n",
       "2  administrando justicia en nombre del Pueblo, y...   \n",
       "3  en nombre del pueblo y por mandato de la Const...   \n",
       "4  en nombre del pueblo y por mandato de la Const...   \n",
       "\n",
       "                                            sintesis  \n",
       "0  En este caso se formula la acción de tutela en...  \n",
       "1  El peticionario considera que los accionantes ...  \n",
       "2  El periodista accionante acusa al abogado acci...  \n",
       "3  Se presenta la acción de tutela en contra de u...  \n",
       "4  El accionante, actuando en representación de s...  "
      ]
     },
     "execution_count": 2,
     "metadata": {},
     "output_type": "execute_result"
    }
   ],
   "source": [
    "df = pd.read_excel('C:/Users/Isabel/Documents/Dataknow-PT/Prueba tecnica 2/Datos/sentencias_pasadas.xlsx')\n",
    "df.head()"
   ]
  },
  {
   "cell_type": "markdown",
   "id": "aa28f20b",
   "metadata": {},
   "source": [
    "## 4.3 Preparación de los datos\n"
   ]
  },
  {
   "cell_type": "code",
   "execution_count": 3,
   "id": "ee6d80df",
   "metadata": {},
   "outputs": [
    {
     "data": {
      "text/plain": [
       "'T-185/22 nan 2022-05-31 nan en nombre del pueblo y por mandato de la Constitución, RESUELVE PRIMERO.- REVOCAR las sentencias expedidas el 6 de enero de 2021, por el Juzgado Veinte Penal Municipal con Función de Control de Garantías de Bogotá, en primera instancia, y el 12 de febrero de 2021, por el Juzgado Cincuenta Penal del Circuito con Función de Conocimiento de Bogotá, en segunda instancia, mediante las cuales concedieron el amparo de los derechos fundamentales al buen nombre y a la honra de Enrique Vallejo Echeverri, Paula Camila Fonseca y la Clínica Envalle S.A.S. En su lugar, DECLARAR IMPROCEDENTE el amparo invocado por los accionantes, por las razones expuestas en la parte motiva de esta providencia. SEGUNDO.- Por Secretaría General, LÍBRENSE las comunicaciones de que trata el artículo 36 del Decreto 2591 de 1991. En este caso se formula la acción de tutela en contra de un particular, alegando la vulneración de los derechos fundamentales al buen nombre y honra, en virtud de las afirmaciones publicadas en redes sociales sobre el procedimiento médico veterinario que se le practicó a la mascota de la accionada, las cuales, según los accionantes, ponen en duda su ética profesional, al ser información errónea e inexacta. La Corte decidió declararla IMPROCEDENTE la acción de tutela, por no acreditar los requisitos de procedencia frente a la libertad de expresión en las redes sociales. En particular, no se demostró el estado de indefensión, como tampoco se superó el requisito de subsidiariedad.'"
      ]
     },
     "execution_count": 3,
     "metadata": {},
     "output_type": "execute_result"
    }
   ],
   "source": [
    "df['texto'] = df[['Providencia', 'Tipo', 'Fecha Sentencia', 'Tema - subtema', 'resuelve', 'sintesis']].astype(str).agg(' '.join, axis=1)\n",
    "df['texto'].iloc[0]"
   ]
  },
  {
   "cell_type": "markdown",
   "id": "8d8c3f58",
   "metadata": {},
   "source": [
    "## 4.4 Vectorización de los datos\n"
   ]
  },
  {
   "cell_type": "markdown",
   "id": "846a0acf",
   "metadata": {},
   "source": [
    "Convertir los textos en embeddings:"
   ]
  },
  {
   "cell_type": "code",
   "execution_count": 4,
   "id": "b4bf3294",
   "metadata": {},
   "outputs": [],
   "source": [
    "model = SentenceTransformer(\"all-MiniLM-L6-v2\")\n",
    "embeddings = model.encode(df['texto'].tolist(), convert_to_numpy=True)"
   ]
  },
  {
   "cell_type": "markdown",
   "id": "800e581c",
   "metadata": {},
   "source": [
    "Guardar en base de datos vectorial con librería FAISS:\n"
   ]
  },
  {
   "cell_type": "code",
   "execution_count": 5,
   "id": "7354392b",
   "metadata": {},
   "outputs": [],
   "source": [
    "index = faiss.IndexFlatL2(embeddings.shape[1])\n",
    "index.add(embeddings)"
   ]
  },
  {
   "cell_type": "markdown",
   "id": "e591a7ea",
   "metadata": {},
   "source": [
    "## 4.5 Función de búsqueda"
   ]
  },
  {
   "cell_type": "code",
   "execution_count": 6,
   "id": "3b36f7df",
   "metadata": {},
   "outputs": [],
   "source": [
    "def buscar_casos(query, top_k=3):\n",
    "    query_emb = model.encode([query])\n",
    "    D, I = index.search(query_emb, top_k)\n",
    "    resultados = df.iloc[I[0]][['Providencia', 'texto']]\n",
    "    return resultados\n"
   ]
  },
  {
   "cell_type": "markdown",
   "id": "3ccb618b",
   "metadata": {},
   "source": [
    "## 4.6 Crear chatbot"
   ]
  },
  {
   "cell_type": "code",
   "execution_count": null,
   "id": "e55b49aa",
   "metadata": {},
   "outputs": [],
   "source": [
    "load_dotenv()\n",
    "client = OpenAI(api_key= os.getenv('OPENAI_API_KEY'))  \n",
    "\n",
    "def consulta_chatbot_openai(pregunta, top_k=3):\n",
    "    contexto = buscar_casos(pregunta, top_k=top_k).head(3)\n",
    "    contexto_completo = \"\"\n",
    "    for i, fila in contexto.iterrows():\n",
    "        contexto_completo += f\"Caso {i+1}:\\n{fila['texto']}\\n\\n\"\n",
    "\n",
    "    prompt = f\"\"\"Actúa como un asesor legal que explica de manera sencilla para alguien sin conocimientos jurídicos o técnicos.\n",
    "\n",
    "Contexto extraído de casos reales:\n",
    "{contexto_completo}\n",
    "\n",
    "Pregunta: {pregunta}\n",
    "Respuesta:\"\"\"\n",
    "\n",
    "    response = client.chat.completions.create(\n",
    "        model=\"gpt-3.5-turbo\",\n",
    "        messages=[{\"role\": \"user\", \"content\": prompt}],\n",
    "        temperature=0.5,\n",
    "        max_tokens=500\n",
    "    )\n",
    "\n",
    "    return response.choices[0].message.content.strip()\n",
    "\n"
   ]
  },
  {
   "cell_type": "markdown",
   "id": "e192342b",
   "metadata": {},
   "source": [
    "## 4.7 Pruebas del chatbot"
   ]
  },
  {
   "cell_type": "code",
   "execution_count": 8,
   "id": "a6d6a796",
   "metadata": {},
   "outputs": [
    {
     "name": "stdout",
     "output_type": "stream",
     "text": [
      "1. Caso 196: La sentencia declara la Ley 2300 de 2023 como EXEQUIBLE, únicamente por el cargo analizado en la demanda de inconstitucionalidad.\n",
      "2. Caso 141: La sentencia CONFIRMA el rechazo de la demanda de inconstitucionalidad contra el artículo 189 de la Ley 906 de 2004.\n",
      "3. Caso 271: La sentencia declara INEXEQUIBLES ciertos numerales del Estatuto Tributario, específicamente el inciso 2° del numeral 2° del artículo 905 y los numerales 4° y 5° del artículo 908, entre otros, de acuerdo a la demanda presentada.\n"
     ]
    }
   ],
   "source": [
    "pregunta = \"Elige tres demandas, las demandas las puedes elegir tu. ¿Cuáles son las sentencias de 3 demandas?\"\n",
    "respuesta = consulta_chatbot_openai(pregunta)\n",
    "print(respuesta)"
   ]
  },
  {
   "cell_type": "code",
   "execution_count": 9,
   "id": "f4a29ba3",
   "metadata": {},
   "outputs": [
    {
     "name": "stdout",
     "output_type": "stream",
     "text": [
      "Las tres demandas anteriores están relacionadas con temas legales y constitucionales en Colombia. En el primer caso, se cuestiona la diferencia de trato injustificada entre distintos grupos que ejercen profesiones liberales en el régimen simple de tributación. En el segundo caso, se analiza la vulneración de derechos fundamentales por parte de una empresa que ofrecía préstamos de dinero y realizaba prácticas abusivas de cobranza. En el tercer caso, se hace un seguimiento a la sentencia T-302 de 2017, que declaró un estado de cosas inconstitucional en relación con el goce efectivo de los derechos fundamentales de la comunidad Wayuu en La Guajira.\n"
     ]
    }
   ],
   "source": [
    "pregunta = \"¿De qué se trataron las 3 demandas anteriores?\"\n",
    "respuesta = consulta_chatbot_openai(pregunta)\n",
    "print(respuesta)"
   ]
  },
  {
   "cell_type": "code",
   "execution_count": 10,
   "id": "b3ddaaac",
   "metadata": {},
   "outputs": [
    {
     "name": "stdout",
     "output_type": "stream",
     "text": [
      "La sentencia del caso que habla de acoso escolar es la T-252/23.\n"
     ]
    }
   ],
   "source": [
    "pregunta = \"¿Cuál fue la sentencia del caso que habla de acoso escolar?\"\n",
    "respuesta = consulta_chatbot_openai(pregunta)\n",
    "print(respuesta)"
   ]
  },
  {
   "cell_type": "code",
   "execution_count": 11,
   "id": "bc53f209",
   "metadata": {},
   "outputs": [
    {
     "name": "stdout",
     "output_type": "stream",
     "text": [
      "En el caso 276, la demanda está relacionada con la prohibición por parte de la Universidad C de que la actora ingresara al salón de clases con su perro de apoyo emocional. La actora argumentó que necesitaba la presencia de su perro para ayudar en el tratamiento de sus problemas de salud mental. La universidad, por su parte, exigió a la demandante presentar documentos relacionados con su historia clínica y el carnet de vacunación de su mascota para permitir su ingreso al campus. La demandante consideró que esta medida era discriminatoria y afectaba su derecho a la educación y a la igualdad. Como resultado, la Corte Constitucional ordenó a la Universidad C presentar excusas privadas a la demandante, permitirle retomar sus estudios y ajustar sus protocolos para garantizar el acceso de perros de apoyo emocional en sus instalaciones.\n"
     ]
    }
   ],
   "source": [
    "pregunta = \"¿diga el detalle de la demanda relacionada con acoso escolar?\"\n",
    "respuesta = consulta_chatbot_openai(pregunta)\n",
    "print(respuesta)"
   ]
  },
  {
   "cell_type": "code",
   "execution_count": 12,
   "id": "9ff1c95e",
   "metadata": {},
   "outputs": [
    {
     "name": "stdout",
     "output_type": "stream",
     "text": [
      "No se menciona ningún caso específico sobre el PIAR en los contextos proporcionados. El PIAR se refiere al Procedimiento de Insolvencia de la Persona Natural No Comerciante, que es un mecanismo legal para que las personas que no son comerciantes y se encuentran en situación de insolvencia puedan acogerse a un proceso de negociación de deudas. Si necesitas información específica sobre casos relacionados con el PIAR, te recomendaría buscar en bases de datos jurídicas o consultar con un abogado especializado en derecho de insolvencia.\n"
     ]
    }
   ],
   "source": [
    "pregunta = \"¿existen casos que hablan sobre el PIAR, indique de que trataron los casos y cuáles fueron sus sentencias?\"\n",
    "respuesta = consulta_chatbot_openai(pregunta)\n",
    "print(respuesta)"
   ]
  },
  {
   "cell_type": "markdown",
   "id": "f3bb2447",
   "metadata": {},
   "source": [
    "## 4.8 Conclusiones"
   ]
  },
  {
   "cell_type": "markdown",
   "id": "747edf74",
   "metadata": {},
   "source": [
    "El chatbot es capaz de responder preguntas específicas sobre casos legales relacionados con redes sociales, utilizando los datos proporcionados.\n",
    "\n",
    "Podría optimizarse aún más la precisión de las respuestas, ajustando los parámetros del modelo o utilizando técnicas adicionales de procesamiento de lenguaje natural.\n",
    "\n",
    "Sin embargo, es una herramienta útil para proporcionar información rápida y precisa a los usuarios sin necesidad de conocimientos técnicos avanzados."
   ]
  },
  {
   "cell_type": "markdown",
   "id": "5e219b1e",
   "metadata": {},
   "source": [
    "# 5. Futuras mejoras"
   ]
  },
  {
   "cell_type": "markdown",
   "id": "f80f2627",
   "metadata": {},
   "source": [
    "- Teniendo en cuenta que el modelo de OpenAI tiene un costo por token, se podrían explorar alternativas de modelos de lenguaje más económicos o incluso entrenar un modelo propio si se dispone de los recursos necesarios para ahorrar en costos a largo plazo.\n"
   ]
  },
  {
   "cell_type": "markdown",
   "id": "c604e335",
   "metadata": {},
   "source": [
    "# 6. Apreciaciones y comentarios del caso (opcional)"
   ]
  }
 ],
 "metadata": {
  "kernelspec": {
   "display_name": "env",
   "language": "python",
   "name": "python3"
  },
  "language_info": {
   "codemirror_mode": {
    "name": "ipython",
    "version": 3
   },
   "file_extension": ".py",
   "mimetype": "text/x-python",
   "name": "python",
   "nbconvert_exporter": "python",
   "pygments_lexer": "ipython3",
   "version": "3.12.11"
  }
 },
 "nbformat": 4,
 "nbformat_minor": 5
}
