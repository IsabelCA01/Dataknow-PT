{
 "cells": [
  {
   "cell_type": "markdown",
   "id": "fdbad8ac",
   "metadata": {},
   "source": [
    "# Informe Final de la Prueba Técnica 2\n",
    "\n",
    "**Autor:** Isabel Castrillón Acosta\n",
    "\n",
    "**Fecha:** 25-06-2025\n",
    "\n",
    "**Descripción del Proyecto:**\n"
   ]
  },
  {
   "cell_type": "markdown",
   "id": "470fe338",
   "metadata": {},
   "source": [
    "# 1. Explicación del Caso"
   ]
  },
  {
   "cell_type": "markdown",
   "id": "30d6d22d",
   "metadata": {},
   "source": [
    "# 2. Supuestos"
   ]
  },
  {
   "cell_type": "markdown",
   "id": "9ace561e",
   "metadata": {},
   "source": [
    "# 3. Formas de resolver el caso y la opcion elegida"
   ]
  },
  {
   "cell_type": "markdown",
   "id": "e9232b50",
   "metadata": {},
   "source": [
    "# 4. Resultados del análisis de los datos y los modelos"
   ]
  },
  {
   "cell_type": "markdown",
   "id": "5e219b1e",
   "metadata": {},
   "source": [
    "# 5. Futuras mejoras"
   ]
  },
  {
   "cell_type": "markdown",
   "id": "c604e335",
   "metadata": {},
   "source": [
    "# 6. Apreciaciones y comentarios del caso (opcional)"
   ]
  }
 ],
 "metadata": {
  "language_info": {
   "name": "python"
  }
 },
 "nbformat": 4,
 "nbformat_minor": 5
}
