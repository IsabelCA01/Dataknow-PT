{
 "cells": [
  {
   "cell_type": "markdown",
   "id": "fdbad8ac",
   "metadata": {},
   "source": [
    "# Informe Final de la Prueba Técnica 2\n",
    "\n",
    "**Autor:** Isabel Castrillón Acosta\n",
    "\n",
    "**Fecha:** 25-06-2025\n",
    "\n",
    "**Descripción:** Este notebook presenta un informe detallado de la prueba técnica 2, que incluye la implementación de un chatbot legal utilizando modelos de lenguaje de Open AI. \n",
    "\n"
   ]
  },
  {
   "cell_type": "markdown",
   "id": "470fe338",
   "metadata": {},
   "source": [
    "# 1. Explicación del Caso"
   ]
  },
  {
   "cell_type": "code",
   "execution_count": null,
   "id": "f4a35eec",
   "metadata": {},
   "outputs": [],
   "source": []
  },
  {
   "cell_type": "markdown",
   "id": "30d6d22d",
   "metadata": {},
   "source": [
    "# 2. Supuestos"
   ]
  },
  {
   "cell_type": "markdown",
   "id": "9ace561e",
   "metadata": {},
   "source": [
    "# 3. Formas de resolver el caso y la opcion elegida"
   ]
  },
  {
   "cell_type": "markdown",
   "id": "e9232b50",
   "metadata": {},
   "source": [
    "# 4. Resultados del análisis de los datos y los modelos"
   ]
  },
  {
   "cell_type": "markdown",
   "id": "959ac95f",
   "metadata": {},
   "source": [
    "## 4.1 Librerias"
   ]
  },
  {
   "cell_type": "code",
   "execution_count": 1,
   "id": "4433aa31",
   "metadata": {},
   "outputs": [],
   "source": [
    "import pandas as pd\n",
    "import faiss\n",
    "import numpy as np\n",
    "import os\n",
    "from openai import OpenAI\n",
    "from sentence_transformers import SentenceTransformer\n",
    "from dotenv import load_dotenv\n"
   ]
  },
  {
   "cell_type": "markdown",
   "id": "c8a8daf2",
   "metadata": {},
   "source": [
    "## 4.2 Carga de datos\n"
   ]
  },
  {
   "cell_type": "code",
   "execution_count": 2,
   "id": "3d9d9bb7",
   "metadata": {},
   "outputs": [
    {
     "data": {
      "text/html": [
       "<div>\n",
       "<style scoped>\n",
       "    .dataframe tbody tr th:only-of-type {\n",
       "        vertical-align: middle;\n",
       "    }\n",
       "\n",
       "    .dataframe tbody tr th {\n",
       "        vertical-align: top;\n",
       "    }\n",
       "\n",
       "    .dataframe thead th {\n",
       "        text-align: right;\n",
       "    }\n",
       "</style>\n",
       "<table border=\"1\" class=\"dataframe\">\n",
       "  <thead>\n",
       "    <tr style=\"text-align: right;\">\n",
       "      <th></th>\n",
       "      <th>#</th>\n",
       "      <th>Relevancia</th>\n",
       "      <th>Providencia</th>\n",
       "      <th>Tipo</th>\n",
       "      <th>Fecha Sentencia</th>\n",
       "      <th>Tema - subtema</th>\n",
       "      <th>resuelve</th>\n",
       "      <th>sintesis</th>\n",
       "    </tr>\n",
       "  </thead>\n",
       "  <tbody>\n",
       "    <tr>\n",
       "      <th>0</th>\n",
       "      <td>1</td>\n",
       "      <td>966965.0</td>\n",
       "      <td>T-185/22</td>\n",
       "      <td>NaN</td>\n",
       "      <td>2022-05-31</td>\n",
       "      <td>NaN</td>\n",
       "      <td>en nombre del pueblo y por mandato de la Const...</td>\n",
       "      <td>En este caso se formula la acción de tutela en...</td>\n",
       "    </tr>\n",
       "    <tr>\n",
       "      <th>1</th>\n",
       "      <td>3</td>\n",
       "      <td>963168.0</td>\n",
       "      <td>T-356/21</td>\n",
       "      <td>NaN</td>\n",
       "      <td>2021-10-15</td>\n",
       "      <td>ACCIÓN DE TUTELA PARA PROTEGER EL DERECHO A LA...</td>\n",
       "      <td>en nombre del pueblo y por mandato de la Const...</td>\n",
       "      <td>El peticionario considera que los accionantes ...</td>\n",
       "    </tr>\n",
       "    <tr>\n",
       "      <th>2</th>\n",
       "      <td>5</td>\n",
       "      <td>956201.0</td>\n",
       "      <td>T-351/22</td>\n",
       "      <td>NaN</td>\n",
       "      <td>2022-10-07</td>\n",
       "      <td>ACCIÓN DE TUTELA PARA PROTEGER EL DERECHO A LA...</td>\n",
       "      <td>administrando justicia en nombre del Pueblo, y...</td>\n",
       "      <td>El periodista accionante acusa al abogado acci...</td>\n",
       "    </tr>\n",
       "    <tr>\n",
       "      <th>3</th>\n",
       "      <td>6</td>\n",
       "      <td>955889.0</td>\n",
       "      <td>T-246/21</td>\n",
       "      <td>NaN</td>\n",
       "      <td>2021-07-29</td>\n",
       "      <td>ACCION DE TUTELA PARA PROTEGER EL DERECHO A LA...</td>\n",
       "      <td>en nombre del pueblo y por mandato de la Const...</td>\n",
       "      <td>Se presenta la acción de tutela en contra de u...</td>\n",
       "    </tr>\n",
       "    <tr>\n",
       "      <th>4</th>\n",
       "      <td>7</td>\n",
       "      <td>955787.0</td>\n",
       "      <td>T-245A/22</td>\n",
       "      <td>NaN</td>\n",
       "      <td>2022-07-01</td>\n",
       "      <td>ACCION DE TUTELA-Inexistencia de hecho superad...</td>\n",
       "      <td>en nombre del pueblo y por mandato de la Const...</td>\n",
       "      <td>El accionante, actuando en representación de s...</td>\n",
       "    </tr>\n",
       "  </tbody>\n",
       "</table>\n",
       "</div>"
      ],
      "text/plain": [
       "   #  Relevancia Providencia  Tipo Fecha Sentencia  \\\n",
       "0  1    966965.0    T-185/22   NaN      2022-05-31   \n",
       "1  3    963168.0    T-356/21   NaN      2021-10-15   \n",
       "2  5    956201.0    T-351/22   NaN      2022-10-07   \n",
       "3  6    955889.0    T-246/21   NaN      2021-07-29   \n",
       "4  7    955787.0   T-245A/22   NaN      2022-07-01   \n",
       "\n",
       "                                      Tema - subtema  \\\n",
       "0                                                NaN   \n",
       "1  ACCIÓN DE TUTELA PARA PROTEGER EL DERECHO A LA...   \n",
       "2  ACCIÓN DE TUTELA PARA PROTEGER EL DERECHO A LA...   \n",
       "3  ACCION DE TUTELA PARA PROTEGER EL DERECHO A LA...   \n",
       "4  ACCION DE TUTELA-Inexistencia de hecho superad...   \n",
       "\n",
       "                                            resuelve  \\\n",
       "0  en nombre del pueblo y por mandato de la Const...   \n",
       "1  en nombre del pueblo y por mandato de la Const...   \n",
       "2  administrando justicia en nombre del Pueblo, y...   \n",
       "3  en nombre del pueblo y por mandato de la Const...   \n",
       "4  en nombre del pueblo y por mandato de la Const...   \n",
       "\n",
       "                                            sintesis  \n",
       "0  En este caso se formula la acción de tutela en...  \n",
       "1  El peticionario considera que los accionantes ...  \n",
       "2  El periodista accionante acusa al abogado acci...  \n",
       "3  Se presenta la acción de tutela en contra de u...  \n",
       "4  El accionante, actuando en representación de s...  "
      ]
     },
     "execution_count": 2,
     "metadata": {},
     "output_type": "execute_result"
    }
   ],
   "source": [
    "df = pd.read_excel('C:/Users/Isabel/Documents/Dataknow-PT/Prueba tecnica 2/Datos/sentencias_pasadas.xlsx')\n",
    "df.head()"
   ]
  },
  {
   "cell_type": "markdown",
   "id": "aa28f20b",
   "metadata": {},
   "source": [
    "## 4.3 Preparación de los datos\n"
   ]
  },
  {
   "cell_type": "code",
   "execution_count": 3,
   "id": "ee6d80df",
   "metadata": {},
   "outputs": [
    {
     "data": {
      "text/plain": [
       "'T-185/22 nan 2022-05-31 nan en nombre del pueblo y por mandato de la Constitución, RESUELVE PRIMERO.- REVOCAR las sentencias expedidas el 6 de enero de 2021, por el Juzgado Veinte Penal Municipal con Función de Control de Garantías de Bogotá, en primera instancia, y el 12 de febrero de 2021, por el Juzgado Cincuenta Penal del Circuito con Función de Conocimiento de Bogotá, en segunda instancia, mediante las cuales concedieron el amparo de los derechos fundamentales al buen nombre y a la honra de Enrique Vallejo Echeverri, Paula Camila Fonseca y la Clínica Envalle S.A.S. En su lugar, DECLARAR IMPROCEDENTE el amparo invocado por los accionantes, por las razones expuestas en la parte motiva de esta providencia. SEGUNDO.- Por Secretaría General, LÍBRENSE las comunicaciones de que trata el artículo 36 del Decreto 2591 de 1991. En este caso se formula la acción de tutela en contra de un particular, alegando la vulneración de los derechos fundamentales al buen nombre y honra, en virtud de las afirmaciones publicadas en redes sociales sobre el procedimiento médico veterinario que se le practicó a la mascota de la accionada, las cuales, según los accionantes, ponen en duda su ética profesional, al ser información errónea e inexacta. La Corte decidió declararla IMPROCEDENTE la acción de tutela, por no acreditar los requisitos de procedencia frente a la libertad de expresión en las redes sociales. En particular, no se demostró el estado de indefensión, como tampoco se superó el requisito de subsidiariedad.'"
      ]
     },
     "execution_count": 3,
     "metadata": {},
     "output_type": "execute_result"
    }
   ],
   "source": [
    "df['texto'] = df[['Providencia', 'Tipo', 'Fecha Sentencia', 'Tema - subtema', 'resuelve', 'sintesis']].astype(str).agg(' '.join, axis=1)\n",
    "df['texto'].iloc[0]"
   ]
  },
  {
   "cell_type": "markdown",
   "id": "8d8c3f58",
   "metadata": {},
   "source": [
    "## 4.4 Vectorización de los datos\n"
   ]
  },
  {
   "cell_type": "markdown",
   "id": "846a0acf",
   "metadata": {},
   "source": [
    "Convertir los textos en embeddings:"
   ]
  },
  {
   "cell_type": "code",
   "execution_count": 4,
   "id": "b4bf3294",
   "metadata": {},
   "outputs": [],
   "source": [
    "model = SentenceTransformer(\"all-MiniLM-L6-v2\")\n",
    "embeddings = model.encode(df['texto'].tolist(), convert_to_numpy=True)"
   ]
  },
  {
   "cell_type": "markdown",
   "id": "800e581c",
   "metadata": {},
   "source": [
    "Guardar en base de datos vectorial con librería FAISS:\n"
   ]
  },
  {
   "cell_type": "code",
   "execution_count": 5,
   "id": "7354392b",
   "metadata": {},
   "outputs": [],
   "source": [
    "index = faiss.IndexFlatL2(embeddings.shape[1])\n",
    "index.add(embeddings)"
   ]
  },
  {
   "cell_type": "markdown",
   "id": "e591a7ea",
   "metadata": {},
   "source": [
    "## 4.5 Función de búsqueda"
   ]
  },
  {
   "cell_type": "code",
   "execution_count": 6,
   "id": "3b36f7df",
   "metadata": {},
   "outputs": [],
   "source": [
    "def buscar_casos(query, top_k=3):\n",
    "    query_emb = model.encode([query])\n",
    "    D, I = index.search(query_emb, top_k)\n",
    "    resultados = df.iloc[I[0]][['Providencia', 'texto']]\n",
    "    return resultados\n"
   ]
  },
  {
   "cell_type": "code",
   "execution_count": 7,
   "id": "e55b49aa",
   "metadata": {},
   "outputs": [],
   "source": [
    "load_dotenv()\n",
    "client = OpenAI(api_key= os.getenv('OPENAI_API_KEY'))  \n",
    "\n",
    "def consulta_chatbot_openai(pregunta, top_k=3):\n",
    "    contexto = buscar_casos(pregunta, top_k=top_k).head(3)\n",
    "    contexto_completo = \"\"\n",
    "    for i, fila in contexto.iterrows():\n",
    "        contexto_completo += f\"Caso {i+1}:\\n{fila['texto']}\\n\\n\"\n",
    "\n",
    "    prompt = f\"\"\"Actúa como un asesor legal que explica de manera sencilla para alguien sin conocimientos jurídicos.\n",
    "\n",
    "Contexto extraído de casos reales:\n",
    "{contexto_completo}\n",
    "\n",
    "Pregunta: {pregunta}\n",
    "Respuesta:\"\"\"\n",
    "\n",
    "    response = client.chat.completions.create(\n",
    "        model=\"gpt-3.5-turbo\",\n",
    "        messages=[{\"role\": \"user\", \"content\": prompt}],\n",
    "        temperature=0.5,\n",
    "        max_tokens=500\n",
    "    )\n",
    "\n",
    "    return response.choices[0].message.content.strip()\n",
    "\n"
   ]
  },
  {
   "cell_type": "code",
   "execution_count": 8,
   "id": "a6d6a796",
   "metadata": {},
   "outputs": [
    {
     "name": "stdout",
     "output_type": "stream",
     "text": [
      "En el caso de acoso escolar (Caso 68), la sentencia fue la revocación parcial de la sentencia de instancia que negó el amparo solicitado. Se declaró la carencia actual de objeto por daño consumado, pero se concluyó que la entidad educativa vulneró garantías constitucionales del menor representado al no garantizarle un acompañamiento idóneo ni activar las rutas de atención correspondientes contra el acoso escolar que sufrió. Se impartieron órdenes a la entidad para que se abstenga de dilaciones injustificadas frente a casos de acoso escolar, incluya en sus protocolos de atención mecanismos de capacitación sobre acoso escolar, ciberbullying y otros temas, y establezca medidas de reparación integral y garantías de no repetición a las víctimas de acoso escolar.\n"
     ]
    }
   ],
   "source": [
    "pregunta = \"¿Cuál fue la sentencia del caso de acoso escolar?\"\n",
    "respuesta = consulta_chatbot_openai(pregunta)\n",
    "print(respuesta)"
   ]
  },
  {
   "cell_type": "markdown",
   "id": "5e219b1e",
   "metadata": {},
   "source": [
    "# 5. Futuras mejoras"
   ]
  },
  {
   "cell_type": "markdown",
   "id": "c604e335",
   "metadata": {},
   "source": [
    "# 6. Apreciaciones y comentarios del caso (opcional)"
   ]
  }
 ],
 "metadata": {
  "kernelspec": {
   "display_name": "env",
   "language": "python",
   "name": "python3"
  },
  "language_info": {
   "codemirror_mode": {
    "name": "ipython",
    "version": 3
   },
   "file_extension": ".py",
   "mimetype": "text/x-python",
   "name": "python",
   "nbconvert_exporter": "python",
   "pygments_lexer": "ipython3",
   "version": "3.12.11"
  }
 },
 "nbformat": 4,
 "nbformat_minor": 5
}
